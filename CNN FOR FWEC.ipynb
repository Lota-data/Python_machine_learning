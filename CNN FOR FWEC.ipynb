{
 "cells": [
  {
   "cell_type": "code",
   "execution_count": 1,
   "id": "4fc4441e",
   "metadata": {},
   "outputs": [],
   "source": [
    "from keras.preprocessing.image import ImageDataGenerator\n",
    "import tensorflow as tf\n",
    "from tensorflow import keras\n",
    "import numpy as np\n",
    "from tensorflow.keras.models import Sequential\n",
    "from tensorflow.keras.layers import Dense, Conv2D, Flatten, MaxPooling2D, BatchNormalization\n",
    "from tensorflow.keras.preprocessing.image import ImageDataGenerator\n",
    "from keras.utils.vis_utils import plot_model\n",
    "from IPython.display import Image\n",
    "from matplotlib import pyplot as plt\n",
    "%matplotlib inline\n",
    "from PIL import Image, ImageEnhance, ImageFilter\n",
    "from PIL import ImageOps\n",
    "import pandas as pd\n",
    "import os\n",
    "import numpy as np\n",
    "from PIL import Image\n",
    "import cv2"
   ]
  },
  {
   "cell_type": "code",
   "execution_count": 117,
   "id": "153666fd",
   "metadata": {},
   "outputs": [],
   "source": [
    "# Create a list to store the image arrays\n",
    "train_images_list = []\n",
    "\n",
    "# Loop over the images in a directory\n",
    "for filename in os.listdir(\"C:/Users/Otiji Lotanna Brian/Desktop/train\"):\n",
    "    # Load the image using Pillow\n",
    "    image = Image.open(\"C:/Users/Otiji Lotanna Brian/Desktop/train/\" + filename)\n",
    "    \n",
    "    \n",
    "     # Resize the image\n",
    "    #image = image.resize((256, 256), Image.ANTIALIAS)\n",
    "    \n",
    "    # Adjust the contrast of the image\n",
    "    #enhancer = ImageEnhance.Contrast(image)\n",
    "    #image = enhancer.enhance(3)\n",
    "    \n",
    "    #Add Image blur\n",
    "    image = image.filter(ImageFilter.GaussianBlur(radius=1.3))\n",
    "    \n",
    "    #Grayscale\n",
    "    #image = image.convert(\"L\")\n",
    "    \n",
    "    # Convert the image to a numpy array\n",
    "    image_array = np.array(image)\n",
    "    \n",
    "    # Normalize and center the image\n",
    "    #image_array = image_array / 255.0\n",
    "    #image_array = image_array - np.mean(image_array)\n",
    "    \n",
    "    # Store the image array in the list\n",
    "    train_images_list.append(image_array)\n",
    "\n",
    "# Stack the image arrays into a single numpy array\n",
    "X_train = np.stack(train_images_list)"
   ]
  },
  {
   "cell_type": "code",
   "execution_count": 121,
   "id": "9372930c",
   "metadata": {},
   "outputs": [],
   "source": [
    "# Create a list to store the image arrays\n",
    "test_images_list = []\n",
    "\n",
    "# Loop over the images in a directory\n",
    "for filename in os.listdir(\"C:/Users/Otiji Lotanna Brian/Desktop/test\"):\n",
    "    # Load the image using Pillow\n",
    "    image = Image.open(\"C:/Users/Otiji Lotanna Brian/Desktop/test/\" + filename)\n",
    "    \n",
    "    # Resize the image\n",
    "    #image = image.resize((256, 256), Image.ANTIALIAS)\n",
    "    \n",
    "    \n",
    "    #Grayscale\n",
    "    #image = image.convert(\"L\")\n",
    "    \n",
    "    # Adjust the contrast of the image\n",
    "    #enhancer = ImageEnhance.Contrast(image)\n",
    "    #image = enhancer.enhance(1.5)\n",
    "    \n",
    "    #Add Image blur\n",
    "    image = image.filter(ImageFilter.GaussianBlur(radius=1.3))\n",
    "    \n",
    "    # Convert the image to a numpy array\n",
    "    image_array = np.array(image)\n",
    "    \n",
    "    # Normalize and center the image\n",
    "    #image_array = image_array / 255.0\n",
    "    #image_array = image_array - np.mean(image_array)\n",
    "    \n",
    "    # Store the image array in the list\n",
    "    test_images_list.append(image_array)\n",
    "\n",
    "# Stack the image arrays into a single numpy array\n",
    "X_test = np.stack(test_images_list)\n"
   ]
  },
  {
   "cell_type": "code",
   "execution_count": 106,
   "id": "e98bcbfd",
   "metadata": {},
   "outputs": [],
   "source": [
    "train_df = pd.read_csv(R\"C:\\Users\\Otiji Lotanna Brian\\Desktop\\train.csv\")\n",
    "test1_df = pd.read_csv('C:/Users/Otiji Lotanna Brian/Desktop/test.csv')\n",
    "\n",
    "target_label = train_df.iloc[:,-1].values\n",
    "y_train = np.stack(target_label)\n",
    "\n",
    "test_label = test1_df.iloc[:,-1].values\n",
    "y_test = np.stack(test_label)"
   ]
  },
  {
   "cell_type": "code",
   "execution_count": 107,
   "id": "59037e3c",
   "metadata": {
    "scrolled": true
   },
   "outputs": [
    {
     "name": "stdout",
     "output_type": "stream",
     "text": [
      "(207, 737, 590, 3)\n",
      "(207,)\n",
      "(37, 737, 590, 3)\n",
      "(37,)\n",
      "(207, 737, 590, 3)\n",
      "(37, 737, 590, 3)\n"
     ]
    },
    {
     "data": {
      "text/plain": [
       "array([1], dtype=int64)"
      ]
     },
     "execution_count": 107,
     "metadata": {},
     "output_type": "execute_result"
    }
   ],
   "source": [
    "print(X_train.shape)\n",
    "print(y_train.shape)\n",
    "print(X_test.shape)\n",
    "print(y_test.shape)\n",
    "\n",
    "y_train= y_train.reshape(207,1)\n",
    "y_test = y_test.reshape(37,1)\n",
    "y_train.shape\n",
    "y_test.shape\n",
    "\n",
    "#X_train = X_train[:,::15,::15,:]\n",
    "#X_test = X_test[:,::15,::15,:]\n",
    "\n",
    "print(X_train.shape)\n",
    "print(X_test.shape)\n",
    "y_train[41]"
   ]
  },
  {
   "cell_type": "code",
   "execution_count": 127,
   "id": "41f1ee9f",
   "metadata": {},
   "outputs": [],
   "source": [
    "kernel_size = 3\n",
    "\n",
    "model = Sequential()\n",
    "model.add(Conv2D(filters=128,\n",
    "                 kernel_size=kernel_size,\n",
    "                 strides=1,\n",
    "                 padding=\"valid\",\n",
    "                 data_format=\"channels_last\",\n",
    "                 activation='relu',\n",
    "                 input_shape = (93,74,3) #width, heights\n",
    "                ))\n",
    "model.add(BatchNormalization(axis=3))\n",
    "model.add(Conv2D(filters=128,\n",
    "                 kernel_size=kernel_size,\n",
    "                 strides=2,\n",
    "                 padding=\"same\",\n",
    "                 data_format=\"channels_last\",\n",
    "                 activation='relu'\n",
    "                ))\n",
    "model.add(Conv2D(filters=256,\n",
    "                 kernel_size=kernel_size,\n",
    "                 strides=1,\n",
    "                 padding=\"same\",\n",
    "                 data_format=\"channels_last\",\n",
    "                 activation='relu'\n",
    "                ))\n",
    "model.add(Conv2D(filters=256,\n",
    "                 kernel_size=kernel_size,\n",
    "                 strides=2,\n",
    "                 padding=\"same\",\n",
    "                 data_format=\"channels_last\",\n",
    "                 activation='relu'\n",
    "                ))\n",
    "model.add(Conv2D(filters=512,\n",
    "                 kernel_size=kernel_size,\n",
    "                 strides=1,\n",
    "                 padding=\"same\",\n",
    "                 data_format=\"channels_last\",\n",
    "                 activation='relu'\n",
    "                ))\n",
    "model.add(Conv2D(filters=512,\n",
    "                 kernel_size=kernel_size,\n",
    "                 strides=1,\n",
    "                 padding=\"valid\",\n",
    "                 data_format=\"channels_last\",\n",
    "                 activation='relu'\n",
    "                ))\n",
    "model.add(Conv2D(filters=512,\n",
    "                 kernel_size=kernel_size,\n",
    "                 strides=2,\n",
    "                 padding=\"valid\",\n",
    "                 data_format=\"channels_last\",\n",
    "                 activation='relu'\n",
    "                ))\n",
    "model.add(BatchNormalization())\n",
    "model.add(Flatten())\n",
    "model.add(Dense(units=1,\n",
    "                activation=None\n",
    "                ))\n",
    "\n",
    "#adam = keras.optimizers.Adam(learning_rate=0.0001, beta_1=0.9, beta_2=0.999, epsilon=None, decay=0.0, amsgrad=False)\n",
    "RMSprop = keras.optimizers.RMSprop(learning_rate=0.0001,\n",
    "    rho=0.9,\n",
    "    momentum=0.0,\n",
    "    epsilon= 1e-07,\n",
    "    centered=False,\n",
    "    name=\"RMSprop\")\n",
    "#model.compile(loss='mean_squared_error', optimizer=adam,metrics=['mse'])\n",
    "model.compile(loss='mean_squared_error', optimizer=RMSprop,metrics=['mse'])"
   ]
  },
  {
   "cell_type": "code",
   "execution_count": 128,
   "id": "271b7372",
   "metadata": {},
   "outputs": [
    {
     "name": "stdout",
     "output_type": "stream",
     "text": [
      "Epoch 1/150\n",
      "2/2 [==============================] - 122s 63s/step - loss: 48.5509 - mse: 48.5509\n",
      "Epoch 2/150\n",
      "2/2 [==============================] - 130s 64s/step - loss: 39.6025 - mse: 39.6025\n",
      "Epoch 3/150\n",
      "2/2 [==============================] - 131s 66s/step - loss: 8.0762 - mse: 8.0762\n",
      "Epoch 4/150\n",
      "2/2 [==============================] - 131s 64s/step - loss: 3.8658 - mse: 3.8658\n",
      "Epoch 5/150\n",
      "2/2 [==============================] - 137s 68s/step - loss: 3.0544 - mse: 3.0544\n",
      "Epoch 6/150\n",
      "2/2 [==============================] - 146s 71s/step - loss: 4.1027 - mse: 4.1027\n",
      "Epoch 7/150\n",
      "2/2 [==============================] - 146s 73s/step - loss: 3.0957 - mse: 3.0957\n",
      "Epoch 8/150\n",
      "2/2 [==============================] - 147s 74s/step - loss: 3.8057 - mse: 3.8057\n",
      "Epoch 9/150\n",
      "2/2 [==============================] - 149s 74s/step - loss: 4.3189 - mse: 4.3189\n",
      "Epoch 10/150\n",
      "2/2 [==============================] - 133s 63s/step - loss: 4.0120 - mse: 4.0120\n",
      "Epoch 11/150\n",
      "2/2 [==============================] - 129s 65s/step - loss: 2.3928 - mse: 2.3928\n",
      "Epoch 12/150\n",
      "2/2 [==============================] - 135s 68s/step - loss: 2.9188 - mse: 2.9188\n",
      "Epoch 13/150\n",
      "2/2 [==============================] - 140s 75s/step - loss: 4.8149 - mse: 4.8149\n",
      "Epoch 14/150\n",
      "2/2 [==============================] - 139s 71s/step - loss: 4.7101 - mse: 4.7101\n",
      "Epoch 15/150\n",
      "2/2 [==============================] - 128s 62s/step - loss: 4.8706 - mse: 4.8706\n",
      "Epoch 16/150\n",
      "2/2 [==============================] - 126s 63s/step - loss: 3.6048 - mse: 3.6048\n",
      "Epoch 17/150\n",
      "2/2 [==============================] - 129s 65s/step - loss: 4.2521 - mse: 4.2521\n",
      "Epoch 18/150\n",
      "2/2 [==============================] - 137s 70s/step - loss: 6.0873 - mse: 6.0873\n",
      "Epoch 19/150\n",
      "2/2 [==============================] - 141s 71s/step - loss: 4.5988 - mse: 4.5988\n",
      "Epoch 20/150\n",
      "2/2 [==============================] - 145s 72s/step - loss: 3.1001 - mse: 3.1001\n",
      "Epoch 21/150\n",
      "2/2 [==============================] - 162s 86s/step - loss: 1.9076 - mse: 1.9076\n",
      "Epoch 22/150\n",
      "2/2 [==============================] - 172s 85s/step - loss: 2.6551 - mse: 2.6551\n",
      "Epoch 23/150\n",
      "2/2 [==============================] - 179s 91s/step - loss: 3.7932 - mse: 3.7932\n",
      "Epoch 24/150\n",
      "2/2 [==============================] - 173s 85s/step - loss: 3.5287 - mse: 3.5287\n",
      "Epoch 25/150\n",
      "2/2 [==============================] - 173s 85s/step - loss: 3.9946 - mse: 3.9946\n",
      "Epoch 26/150\n",
      "2/2 [==============================] - 175s 88s/step - loss: 4.2995 - mse: 4.2995\n",
      "Epoch 27/150\n",
      "2/2 [==============================] - 167s 82s/step - loss: 3.1466 - mse: 3.1466\n",
      "Epoch 28/150\n",
      "2/2 [==============================] - 183s 90s/step - loss: 1.8366 - mse: 1.8366\n",
      "Epoch 29/150\n",
      "2/2 [==============================] - 170s 81s/step - loss: 1.1907 - mse: 1.1907\n",
      "Epoch 30/150\n",
      "2/2 [==============================] - 169s 84s/step - loss: 3.2846 - mse: 3.2846\n",
      "Epoch 31/150\n",
      "2/2 [==============================] - 172s 84s/step - loss: 3.1085 - mse: 3.1085\n",
      "Epoch 32/150\n",
      "2/2 [==============================] - 169s 90s/step - loss: 5.7821 - mse: 5.7821\n",
      "Epoch 33/150\n",
      "2/2 [==============================] - 172s 87s/step - loss: 4.7352 - mse: 4.7352\n",
      "Epoch 34/150\n",
      "2/2 [==============================] - 161s 79s/step - loss: 2.2753 - mse: 2.2753\n",
      "Epoch 35/150\n",
      "2/2 [==============================] - 168s 84s/step - loss: 1.8347 - mse: 1.8347\n",
      "Epoch 36/150\n",
      "2/2 [==============================] - 166s 84s/step - loss: 3.4103 - mse: 3.4103\n",
      "Epoch 37/150\n",
      "2/2 [==============================] - 171s 84s/step - loss: 2.4217 - mse: 2.4217\n",
      "Epoch 38/150\n",
      "2/2 [==============================] - 171s 84s/step - loss: 1.4948 - mse: 1.4948\n",
      "Epoch 39/150\n",
      "2/2 [==============================] - 167s 83s/step - loss: 1.8784 - mse: 1.8784\n",
      "Epoch 40/150\n",
      "2/2 [==============================] - 172s 86s/step - loss: 2.1162 - mse: 2.1162\n",
      "Epoch 41/150\n",
      "2/2 [==============================] - 172s 83s/step - loss: 3.0094 - mse: 3.0094\n",
      "Epoch 42/150\n",
      "2/2 [==============================] - 174s 88s/step - loss: 1.4161 - mse: 1.4161\n",
      "Epoch 43/150\n",
      "2/2 [==============================] - 171s 84s/step - loss: 2.2197 - mse: 2.2197\n",
      "Epoch 44/150\n",
      "2/2 [==============================] - 155s 73s/step - loss: 3.2780 - mse: 3.2780\n",
      "Epoch 45/150\n",
      "2/2 [==============================] - 149s 74s/step - loss: 3.0978 - mse: 3.0978\n",
      "Epoch 46/150\n",
      "2/2 [==============================] - 153s 79s/step - loss: 2.2919 - mse: 2.2919\n",
      "Epoch 47/150\n",
      "2/2 [==============================] - 166s 87s/step - loss: 2.1026 - mse: 2.1026\n",
      "Epoch 48/150\n",
      "2/2 [==============================] - 151s 76s/step - loss: 2.1164 - mse: 2.1164\n",
      "Epoch 49/150\n",
      "2/2 [==============================] - 156s 76s/step - loss: 2.0312 - mse: 2.0312\n",
      "Epoch 50/150\n",
      "2/2 [==============================] - 155s 79s/step - loss: 1.4381 - mse: 1.4381\n",
      "Epoch 51/150\n",
      "2/2 [==============================] - 150s 72s/step - loss: 2.2898 - mse: 2.2898\n",
      "Epoch 52/150\n",
      "2/2 [==============================] - 143s 70s/step - loss: 1.9698 - mse: 1.9698\n",
      "Epoch 53/150\n",
      "2/2 [==============================] - 146s 73s/step - loss: 2.1202 - mse: 2.1202\n",
      "Epoch 54/150\n",
      "2/2 [==============================] - 147s 74s/step - loss: 2.1528 - mse: 2.1528\n",
      "Epoch 55/150\n",
      "2/2 [==============================] - 149s 75s/step - loss: 1.9276 - mse: 1.9276\n",
      "Epoch 56/150\n",
      "2/2 [==============================] - 120s 48s/step - loss: 1.6135 - mse: 1.6135\n",
      "Epoch 57/150\n",
      "2/2 [==============================] - 97s 48s/step - loss: 1.8289 - mse: 1.8289\n",
      "Epoch 58/150\n",
      "2/2 [==============================] - 94s 47s/step - loss: 2.5470 - mse: 2.5470\n",
      "Epoch 59/150\n",
      "2/2 [==============================] - 97s 48s/step - loss: 2.2178 - mse: 2.2178\n",
      "Epoch 60/150\n",
      "2/2 [==============================] - 105s 48s/step - loss: 2.1110 - mse: 2.1110\n",
      "Epoch 61/150\n",
      "2/2 [==============================] - 99s 49s/step - loss: 1.6509 - mse: 1.6509\n",
      "Epoch 62/150\n",
      "2/2 [==============================] - 95s 48s/step - loss: 1.3985 - mse: 1.3985\n",
      "Epoch 63/150\n",
      "2/2 [==============================] - 102s 53s/step - loss: 1.4847 - mse: 1.4847\n",
      "Epoch 64/150\n",
      "1/2 [==============>...............] - ETA: 53s - loss: 1.9278 - mse: 1.9278"
     ]
    },
    {
     "ename": "KeyboardInterrupt",
     "evalue": "",
     "output_type": "error",
     "traceback": [
      "\u001b[1;31m---------------------------------------------------------------------------\u001b[0m",
      "\u001b[1;31mKeyboardInterrupt\u001b[0m                         Traceback (most recent call last)",
      "\u001b[1;32mC:\\Users\\OTIJIL~1\\AppData\\Local\\Temp/ipykernel_17240/1421457242.py\u001b[0m in \u001b[0;36m<module>\u001b[1;34m\u001b[0m\n\u001b[0;32m      1\u001b[0m \u001b[1;31m#Fit the model\u001b[0m\u001b[1;33m\u001b[0m\u001b[1;33m\u001b[0m\u001b[1;33m\u001b[0m\u001b[0m\n\u001b[1;32m----> 2\u001b[1;33m history = model.fit(X_train[:,::8,::8,:], y_train,\n\u001b[0m\u001b[0;32m      3\u001b[0m                     epochs=150, batch_size=104)\n",
      "\u001b[1;32m~\\anaconda3new\\lib\\site-packages\\keras\\utils\\traceback_utils.py\u001b[0m in \u001b[0;36merror_handler\u001b[1;34m(*args, **kwargs)\u001b[0m\n\u001b[0;32m     63\u001b[0m         \u001b[0mfiltered_tb\u001b[0m \u001b[1;33m=\u001b[0m \u001b[1;32mNone\u001b[0m\u001b[1;33m\u001b[0m\u001b[1;33m\u001b[0m\u001b[0m\n\u001b[0;32m     64\u001b[0m         \u001b[1;32mtry\u001b[0m\u001b[1;33m:\u001b[0m\u001b[1;33m\u001b[0m\u001b[1;33m\u001b[0m\u001b[0m\n\u001b[1;32m---> 65\u001b[1;33m             \u001b[1;32mreturn\u001b[0m \u001b[0mfn\u001b[0m\u001b[1;33m(\u001b[0m\u001b[1;33m*\u001b[0m\u001b[0margs\u001b[0m\u001b[1;33m,\u001b[0m \u001b[1;33m**\u001b[0m\u001b[0mkwargs\u001b[0m\u001b[1;33m)\u001b[0m\u001b[1;33m\u001b[0m\u001b[1;33m\u001b[0m\u001b[0m\n\u001b[0m\u001b[0;32m     66\u001b[0m         \u001b[1;32mexcept\u001b[0m \u001b[0mException\u001b[0m \u001b[1;32mas\u001b[0m \u001b[0me\u001b[0m\u001b[1;33m:\u001b[0m\u001b[1;33m\u001b[0m\u001b[1;33m\u001b[0m\u001b[0m\n\u001b[0;32m     67\u001b[0m             \u001b[0mfiltered_tb\u001b[0m \u001b[1;33m=\u001b[0m \u001b[0m_process_traceback_frames\u001b[0m\u001b[1;33m(\u001b[0m\u001b[0me\u001b[0m\u001b[1;33m.\u001b[0m\u001b[0m__traceback__\u001b[0m\u001b[1;33m)\u001b[0m\u001b[1;33m\u001b[0m\u001b[1;33m\u001b[0m\u001b[0m\n",
      "\u001b[1;32m~\\anaconda3new\\lib\\site-packages\\keras\\engine\\training.py\u001b[0m in \u001b[0;36mfit\u001b[1;34m(self, x, y, batch_size, epochs, verbose, callbacks, validation_split, validation_data, shuffle, class_weight, sample_weight, initial_epoch, steps_per_epoch, validation_steps, validation_batch_size, validation_freq, max_queue_size, workers, use_multiprocessing)\u001b[0m\n\u001b[0;32m   1562\u001b[0m                         ):\n\u001b[0;32m   1563\u001b[0m                             \u001b[0mcallbacks\u001b[0m\u001b[1;33m.\u001b[0m\u001b[0mon_train_batch_begin\u001b[0m\u001b[1;33m(\u001b[0m\u001b[0mstep\u001b[0m\u001b[1;33m)\u001b[0m\u001b[1;33m\u001b[0m\u001b[1;33m\u001b[0m\u001b[0m\n\u001b[1;32m-> 1564\u001b[1;33m                             \u001b[0mtmp_logs\u001b[0m \u001b[1;33m=\u001b[0m \u001b[0mself\u001b[0m\u001b[1;33m.\u001b[0m\u001b[0mtrain_function\u001b[0m\u001b[1;33m(\u001b[0m\u001b[0miterator\u001b[0m\u001b[1;33m)\u001b[0m\u001b[1;33m\u001b[0m\u001b[1;33m\u001b[0m\u001b[0m\n\u001b[0m\u001b[0;32m   1565\u001b[0m                             \u001b[1;32mif\u001b[0m \u001b[0mdata_handler\u001b[0m\u001b[1;33m.\u001b[0m\u001b[0mshould_sync\u001b[0m\u001b[1;33m:\u001b[0m\u001b[1;33m\u001b[0m\u001b[1;33m\u001b[0m\u001b[0m\n\u001b[0;32m   1566\u001b[0m                                 \u001b[0mcontext\u001b[0m\u001b[1;33m.\u001b[0m\u001b[0masync_wait\u001b[0m\u001b[1;33m(\u001b[0m\u001b[1;33m)\u001b[0m\u001b[1;33m\u001b[0m\u001b[1;33m\u001b[0m\u001b[0m\n",
      "\u001b[1;32m~\\anaconda3new\\lib\\site-packages\\tensorflow\\python\\util\\traceback_utils.py\u001b[0m in \u001b[0;36merror_handler\u001b[1;34m(*args, **kwargs)\u001b[0m\n\u001b[0;32m    148\u001b[0m     \u001b[0mfiltered_tb\u001b[0m \u001b[1;33m=\u001b[0m \u001b[1;32mNone\u001b[0m\u001b[1;33m\u001b[0m\u001b[1;33m\u001b[0m\u001b[0m\n\u001b[0;32m    149\u001b[0m     \u001b[1;32mtry\u001b[0m\u001b[1;33m:\u001b[0m\u001b[1;33m\u001b[0m\u001b[1;33m\u001b[0m\u001b[0m\n\u001b[1;32m--> 150\u001b[1;33m       \u001b[1;32mreturn\u001b[0m \u001b[0mfn\u001b[0m\u001b[1;33m(\u001b[0m\u001b[1;33m*\u001b[0m\u001b[0margs\u001b[0m\u001b[1;33m,\u001b[0m \u001b[1;33m**\u001b[0m\u001b[0mkwargs\u001b[0m\u001b[1;33m)\u001b[0m\u001b[1;33m\u001b[0m\u001b[1;33m\u001b[0m\u001b[0m\n\u001b[0m\u001b[0;32m    151\u001b[0m     \u001b[1;32mexcept\u001b[0m \u001b[0mException\u001b[0m \u001b[1;32mas\u001b[0m \u001b[0me\u001b[0m\u001b[1;33m:\u001b[0m\u001b[1;33m\u001b[0m\u001b[1;33m\u001b[0m\u001b[0m\n\u001b[0;32m    152\u001b[0m       \u001b[0mfiltered_tb\u001b[0m \u001b[1;33m=\u001b[0m \u001b[0m_process_traceback_frames\u001b[0m\u001b[1;33m(\u001b[0m\u001b[0me\u001b[0m\u001b[1;33m.\u001b[0m\u001b[0m__traceback__\u001b[0m\u001b[1;33m)\u001b[0m\u001b[1;33m\u001b[0m\u001b[1;33m\u001b[0m\u001b[0m\n",
      "\u001b[1;32m~\\anaconda3new\\lib\\site-packages\\tensorflow\\python\\eager\\def_function.py\u001b[0m in \u001b[0;36m__call__\u001b[1;34m(self, *args, **kwds)\u001b[0m\n\u001b[0;32m    913\u001b[0m \u001b[1;33m\u001b[0m\u001b[0m\n\u001b[0;32m    914\u001b[0m       \u001b[1;32mwith\u001b[0m \u001b[0mOptionalXlaContext\u001b[0m\u001b[1;33m(\u001b[0m\u001b[0mself\u001b[0m\u001b[1;33m.\u001b[0m\u001b[0m_jit_compile\u001b[0m\u001b[1;33m)\u001b[0m\u001b[1;33m:\u001b[0m\u001b[1;33m\u001b[0m\u001b[1;33m\u001b[0m\u001b[0m\n\u001b[1;32m--> 915\u001b[1;33m         \u001b[0mresult\u001b[0m \u001b[1;33m=\u001b[0m \u001b[0mself\u001b[0m\u001b[1;33m.\u001b[0m\u001b[0m_call\u001b[0m\u001b[1;33m(\u001b[0m\u001b[1;33m*\u001b[0m\u001b[0margs\u001b[0m\u001b[1;33m,\u001b[0m \u001b[1;33m**\u001b[0m\u001b[0mkwds\u001b[0m\u001b[1;33m)\u001b[0m\u001b[1;33m\u001b[0m\u001b[1;33m\u001b[0m\u001b[0m\n\u001b[0m\u001b[0;32m    916\u001b[0m \u001b[1;33m\u001b[0m\u001b[0m\n\u001b[0;32m    917\u001b[0m       \u001b[0mnew_tracing_count\u001b[0m \u001b[1;33m=\u001b[0m \u001b[0mself\u001b[0m\u001b[1;33m.\u001b[0m\u001b[0mexperimental_get_tracing_count\u001b[0m\u001b[1;33m(\u001b[0m\u001b[1;33m)\u001b[0m\u001b[1;33m\u001b[0m\u001b[1;33m\u001b[0m\u001b[0m\n",
      "\u001b[1;32m~\\anaconda3new\\lib\\site-packages\\tensorflow\\python\\eager\\def_function.py\u001b[0m in \u001b[0;36m_call\u001b[1;34m(self, *args, **kwds)\u001b[0m\n\u001b[0;32m    945\u001b[0m       \u001b[1;31m# In this case we have created variables on the first call, so we run the\u001b[0m\u001b[1;33m\u001b[0m\u001b[1;33m\u001b[0m\u001b[1;33m\u001b[0m\u001b[0m\n\u001b[0;32m    946\u001b[0m       \u001b[1;31m# defunned version which is guaranteed to never create variables.\u001b[0m\u001b[1;33m\u001b[0m\u001b[1;33m\u001b[0m\u001b[1;33m\u001b[0m\u001b[0m\n\u001b[1;32m--> 947\u001b[1;33m       \u001b[1;32mreturn\u001b[0m \u001b[0mself\u001b[0m\u001b[1;33m.\u001b[0m\u001b[0m_stateless_fn\u001b[0m\u001b[1;33m(\u001b[0m\u001b[1;33m*\u001b[0m\u001b[0margs\u001b[0m\u001b[1;33m,\u001b[0m \u001b[1;33m**\u001b[0m\u001b[0mkwds\u001b[0m\u001b[1;33m)\u001b[0m  \u001b[1;31m# pylint: disable=not-callable\u001b[0m\u001b[1;33m\u001b[0m\u001b[1;33m\u001b[0m\u001b[0m\n\u001b[0m\u001b[0;32m    948\u001b[0m     \u001b[1;32melif\u001b[0m \u001b[0mself\u001b[0m\u001b[1;33m.\u001b[0m\u001b[0m_stateful_fn\u001b[0m \u001b[1;32mis\u001b[0m \u001b[1;32mnot\u001b[0m \u001b[1;32mNone\u001b[0m\u001b[1;33m:\u001b[0m\u001b[1;33m\u001b[0m\u001b[1;33m\u001b[0m\u001b[0m\n\u001b[0;32m    949\u001b[0m       \u001b[1;31m# Release the lock early so that multiple threads can perform the call\u001b[0m\u001b[1;33m\u001b[0m\u001b[1;33m\u001b[0m\u001b[1;33m\u001b[0m\u001b[0m\n",
      "\u001b[1;32m~\\anaconda3new\\lib\\site-packages\\tensorflow\\python\\eager\\function.py\u001b[0m in \u001b[0;36m__call__\u001b[1;34m(self, *args, **kwargs)\u001b[0m\n\u001b[0;32m   2494\u001b[0m       (graph_function,\n\u001b[0;32m   2495\u001b[0m        filtered_flat_args) = self._maybe_define_function(args, kwargs)\n\u001b[1;32m-> 2496\u001b[1;33m     return graph_function._call_flat(\n\u001b[0m\u001b[0;32m   2497\u001b[0m         filtered_flat_args, captured_inputs=graph_function.captured_inputs)  # pylint: disable=protected-access\n\u001b[0;32m   2498\u001b[0m \u001b[1;33m\u001b[0m\u001b[0m\n",
      "\u001b[1;32m~\\anaconda3new\\lib\\site-packages\\tensorflow\\python\\eager\\function.py\u001b[0m in \u001b[0;36m_call_flat\u001b[1;34m(self, args, captured_inputs, cancellation_manager)\u001b[0m\n\u001b[0;32m   1860\u001b[0m         and executing_eagerly):\n\u001b[0;32m   1861\u001b[0m       \u001b[1;31m# No tape is watching; skip to running the function.\u001b[0m\u001b[1;33m\u001b[0m\u001b[1;33m\u001b[0m\u001b[1;33m\u001b[0m\u001b[0m\n\u001b[1;32m-> 1862\u001b[1;33m       return self._build_call_outputs(self._inference_function.call(\n\u001b[0m\u001b[0;32m   1863\u001b[0m           ctx, args, cancellation_manager=cancellation_manager))\n\u001b[0;32m   1864\u001b[0m     forward_backward = self._select_forward_and_backward_functions(\n",
      "\u001b[1;32m~\\anaconda3new\\lib\\site-packages\\tensorflow\\python\\eager\\function.py\u001b[0m in \u001b[0;36mcall\u001b[1;34m(self, ctx, args, cancellation_manager)\u001b[0m\n\u001b[0;32m    497\u001b[0m       \u001b[1;32mwith\u001b[0m \u001b[0m_InterpolateFunctionError\u001b[0m\u001b[1;33m(\u001b[0m\u001b[0mself\u001b[0m\u001b[1;33m)\u001b[0m\u001b[1;33m:\u001b[0m\u001b[1;33m\u001b[0m\u001b[1;33m\u001b[0m\u001b[0m\n\u001b[0;32m    498\u001b[0m         \u001b[1;32mif\u001b[0m \u001b[0mcancellation_manager\u001b[0m \u001b[1;32mis\u001b[0m \u001b[1;32mNone\u001b[0m\u001b[1;33m:\u001b[0m\u001b[1;33m\u001b[0m\u001b[1;33m\u001b[0m\u001b[0m\n\u001b[1;32m--> 499\u001b[1;33m           outputs = execute.execute(\n\u001b[0m\u001b[0;32m    500\u001b[0m               \u001b[0mstr\u001b[0m\u001b[1;33m(\u001b[0m\u001b[0mself\u001b[0m\u001b[1;33m.\u001b[0m\u001b[0msignature\u001b[0m\u001b[1;33m.\u001b[0m\u001b[0mname\u001b[0m\u001b[1;33m)\u001b[0m\u001b[1;33m,\u001b[0m\u001b[1;33m\u001b[0m\u001b[1;33m\u001b[0m\u001b[0m\n\u001b[0;32m    501\u001b[0m               \u001b[0mnum_outputs\u001b[0m\u001b[1;33m=\u001b[0m\u001b[0mself\u001b[0m\u001b[1;33m.\u001b[0m\u001b[0m_num_outputs\u001b[0m\u001b[1;33m,\u001b[0m\u001b[1;33m\u001b[0m\u001b[1;33m\u001b[0m\u001b[0m\n",
      "\u001b[1;32m~\\anaconda3new\\lib\\site-packages\\tensorflow\\python\\eager\\execute.py\u001b[0m in \u001b[0;36mquick_execute\u001b[1;34m(op_name, num_outputs, inputs, attrs, ctx, name)\u001b[0m\n\u001b[0;32m     52\u001b[0m   \u001b[1;32mtry\u001b[0m\u001b[1;33m:\u001b[0m\u001b[1;33m\u001b[0m\u001b[1;33m\u001b[0m\u001b[0m\n\u001b[0;32m     53\u001b[0m     \u001b[0mctx\u001b[0m\u001b[1;33m.\u001b[0m\u001b[0mensure_initialized\u001b[0m\u001b[1;33m(\u001b[0m\u001b[1;33m)\u001b[0m\u001b[1;33m\u001b[0m\u001b[1;33m\u001b[0m\u001b[0m\n\u001b[1;32m---> 54\u001b[1;33m     tensors = pywrap_tfe.TFE_Py_Execute(ctx._handle, device_name, op_name,\n\u001b[0m\u001b[0;32m     55\u001b[0m                                         inputs, attrs, num_outputs)\n\u001b[0;32m     56\u001b[0m   \u001b[1;32mexcept\u001b[0m \u001b[0mcore\u001b[0m\u001b[1;33m.\u001b[0m\u001b[0m_NotOkStatusException\u001b[0m \u001b[1;32mas\u001b[0m \u001b[0me\u001b[0m\u001b[1;33m:\u001b[0m\u001b[1;33m\u001b[0m\u001b[1;33m\u001b[0m\u001b[0m\n",
      "\u001b[1;31mKeyboardInterrupt\u001b[0m: "
     ]
    }
   ],
   "source": [
    "#Fit the model\n",
    "history = model.fit(X_train[:,::8,::8,:], y_train,\n",
    "                    epochs=150, batch_size=104)"
   ]
  },
  {
   "cell_type": "code",
   "execution_count": 19,
   "id": "3ec34468",
   "metadata": {
    "scrolled": false
   },
   "outputs": [
    {
     "name": "stdout",
     "output_type": "stream",
     "text": [
      "1/1 [==============================] - 1s 1s/step\n"
     ]
    },
    {
     "data": {
      "text/plain": [
       "array([[0.7270631 ],\n",
       "       [0.48647803],\n",
       "       [4.115365  ],\n",
       "       [4.3615007 ],\n",
       "       [3.6781514 ],\n",
       "       [4.1893315 ]], dtype=float32)"
      ]
     },
     "execution_count": 19,
     "metadata": {},
     "output_type": "execute_result"
    }
   ],
   "source": [
    "#model.predict(X_train[:,::8,::8,:])\n",
    "x=model.predict(X_train[7:13,::8,::8,:])\n",
    "x"
   ]
  },
  {
   "cell_type": "code",
   "execution_count": 123,
   "id": "f2bf8b4a",
   "metadata": {},
   "outputs": [
    {
     "name": "stdout",
     "output_type": "stream",
     "text": [
      "2/2 [==============================] - 4s 399ms/step\n",
      "[[ 2.82639   ]\n",
      " [ 2.7795427 ]\n",
      " [ 3.6452477 ]\n",
      " [ 3.2973583 ]\n",
      " [ 3.4880311 ]\n",
      " [ 3.5890236 ]\n",
      " [ 4.0093904 ]\n",
      " [ 3.9842026 ]\n",
      " [ 4.3108644 ]\n",
      " [ 2.5970685 ]\n",
      " [ 4.7690263 ]\n",
      " [ 1.5345882 ]\n",
      " [ 1.3855479 ]\n",
      " [ 1.5170226 ]\n",
      " [ 3.1767545 ]\n",
      " [ 2.3162763 ]\n",
      " [ 5.392176  ]\n",
      " [ 1.6078486 ]\n",
      " [ 5.033192  ]\n",
      " [ 2.2721102 ]\n",
      " [ 3.9663913 ]\n",
      " [-0.8277812 ]\n",
      " [ 4.626519  ]\n",
      " [ 4.7358174 ]\n",
      " [ 2.2292602 ]\n",
      " [ 2.116234  ]\n",
      " [ 3.615032  ]\n",
      " [ 3.133721  ]\n",
      " [ 2.9284117 ]\n",
      " [ 1.2883345 ]\n",
      " [ 7.770717  ]\n",
      " [ 1.7697821 ]\n",
      " [ 3.8462493 ]\n",
      " [ 1.5851612 ]\n",
      " [ 4.2813697 ]\n",
      " [-0.03618458]\n",
      " [-0.278279  ]]\n"
     ]
    },
    {
     "data": {
      "text/plain": [
       "array([[ 3.],\n",
       "       [ 3.],\n",
       "       [ 4.],\n",
       "       [ 3.],\n",
       "       [ 3.],\n",
       "       [ 4.],\n",
       "       [ 4.],\n",
       "       [ 4.],\n",
       "       [ 4.],\n",
       "       [ 3.],\n",
       "       [ 5.],\n",
       "       [ 2.],\n",
       "       [ 1.],\n",
       "       [ 2.],\n",
       "       [ 3.],\n",
       "       [ 2.],\n",
       "       [ 5.],\n",
       "       [ 2.],\n",
       "       [ 5.],\n",
       "       [ 2.],\n",
       "       [ 4.],\n",
       "       [-1.],\n",
       "       [ 5.],\n",
       "       [ 5.],\n",
       "       [ 2.],\n",
       "       [ 2.],\n",
       "       [ 4.],\n",
       "       [ 3.],\n",
       "       [ 3.],\n",
       "       [ 1.],\n",
       "       [ 8.],\n",
       "       [ 2.],\n",
       "       [ 4.],\n",
       "       [ 2.],\n",
       "       [ 4.],\n",
       "       [-0.],\n",
       "       [-0.]], dtype=float32)"
      ]
     },
     "execution_count": 123,
     "metadata": {},
     "output_type": "execute_result"
    }
   ],
   "source": [
    "predict=model.predict(X_test[:,::8,::8,:])\n",
    "print(predict)\n",
    "np.round(predict)\n",
    "#print(y_train[194])\n",
    "#x[194]\n",
    "\n",
    "#model = keras.models.load_model('C:/Users/Otiji Lotanna Brian/Desktop/2nd_experiment.h5')\n",
    "#model = keras.models.load_model('C:/Users/Otiji Lotanna Brian/Desktop/best_accurate.h5')\n",
    "#model = keras.models.load_model('C:/Users/Otiji Lotanna Brian/Desktop/ACCURACY_FAECAL_loss0.1.h5')"
   ]
  },
  {
   "cell_type": "code",
   "execution_count": 122,
   "id": "4d031210",
   "metadata": {},
   "outputs": [
    {
     "name": "stdout",
     "output_type": "stream",
     "text": [
      "2/2 [==============================] - 5s 373ms/step - loss: 1.2471 - mse: 1.2471\n"
     ]
    }
   ],
   "source": [
    "metrics = model.evaluate(X_test[:,::8,::8,:], y_test)\n",
    "#model.save('C:/Users/Otiji Lotanna Brian/Desktop/3rd_experiment.h5')"
   ]
  },
  {
   "cell_type": "code",
   "execution_count": 110,
   "id": "4a828ddc",
   "metadata": {},
   "outputs": [
    {
     "data": {
      "image/png": "[encoded data removed]",
      "text/plain": [
       "<Figure size 576x576 with 1 Axes>"
      ]
     },
     "metadata": {
      "needs_background": "light"
     },
     "output_type": "display_data"
    },
    {
     "data": {
      "image/png": "[encoded data removed]",
      "text/plain": [
       "<Figure size 576x576 with 1 Axes>"
      ]
     },
     "metadata": {
      "needs_background": "light"
     },
     "output_type": "display_data"
    },
    {
     "data": {
      "text/plain": [
       "'\\nplt.figure(figsize=(8, 8))\\n# Plot the loss values\\nplt.plot(accuracy)\\nplt.title(\"Accuracy Plot\")\\nplt.xlabel(\"Epoch\")\\nplt.ylabel(\"Accuracy\")\\nplt.show()\\n\\n'"
      ]
     },
     "execution_count": 110,
     "metadata": {},
     "output_type": "execute_result"
    }
   ],
   "source": [
    "# Extract the loss, accuracy and mse values from the history object\n",
    "loss = history.history['loss']\n",
    "mse = history.history['mse']\n",
    "#accuracy = history.history['accuracy']\n",
    "\n",
    "plt.figure(figsize=(8, 8))\n",
    "# Plot the loss values\n",
    "plt.plot(loss)\n",
    "plt.title(\"Loss Plot\")\n",
    "plt.xlabel(\"Epoch\")\n",
    "plt.ylabel(\"Loss\")\n",
    "plt.show()\n",
    "\n",
    "plt.figure(figsize=(8, 8))\n",
    "# Plot the mean squared error values\n",
    "plt.plot(mse)\n",
    "plt.title(\"Mean Squared Error Plot\")\n",
    "plt.xlabel(\"Epoch\")\n",
    "plt.ylabel(\"Mean Squared Error\")\n",
    "plt.show()\n",
    "\n",
    "\n",
    "\n",
    "'''\n",
    "plt.figure(figsize=(8, 8))\n",
    "# Plot the loss values\n",
    "plt.plot(accuracy)\n",
    "plt.title(\"Accuracy Plot\")\n",
    "plt.xlabel(\"Epoch\")\n",
    "plt.ylabel(\"Accuracy\")\n",
    "plt.show()\n",
    "\n",
    "'''"
   ]
  },
  {
   "cell_type": "code",
   "execution_count": 17,
   "id": "baa80c15",
   "metadata": {},
   "outputs": [
    {
     "name": "stdout",
     "output_type": "stream",
     "text": [
      "1 - Copy (3).jpg\n",
      "1 - Copy (4).jpg\n",
      "1 - Copy (5).jpg\n",
      "1 - Copy.jpg\n",
      "1.jpg\n",
      "180_1 - Copy (4).jpg\n",
      "180_1 - Copy (5).jpg\n",
      "180_1 - Copy.jpg\n",
      "180_1.jpg\n",
      "180_2.jpg\n",
      "180_3 - Copy (2).jpg\n",
      "180_3 - Copy (3).jpg\n",
      "180_3 - Copy (4).jpg\n",
      "180_3 - Copy (5).jpg\n",
      "180_3.jpg\n",
      "180_5 - Copy (2).jpg\n",
      "180_5 - Copy (3).jpg\n",
      "180_5 - Copy (4).jpg\n",
      "180_5 - Copy (5).jpg\n",
      "180_5 - Copy.jpg\n",
      "180_5.jpg\n",
      "180_7.jpg\n",
      "2.jpg\n",
      "3 - Copy (2).jpg\n",
      "3 - Copy (3).jpg\n",
      "3 - Copy (4).jpg\n",
      "3 - Copy (5).jpg\n",
      "3 - Copy.jpg\n",
      "3.jpg\n",
      "5 - Copy (2).jpg\n",
      "5 - Copy (3).jpg\n",
      "5 - Copy (4).jpg\n",
      "5 - Copy (5).jpg\n",
      "5 - Copy.jpg\n",
      "5.jpg\n",
      "6 - Copy (5).jpg\n",
      "7.jpg\n"
     ]
    }
   ],
   "source": [
    "for filename in os.listdir(\"C:/Users/Otiji Lotanna Brian/Desktop/test\"):\n",
    "    print(filename)\n",
    "    \n",
    "    "
   ]
  },
  {
   "cell_type": "code",
   "execution_count": 103,
   "id": "02fb98a3",
   "metadata": {
    "scrolled": true
   },
   "outputs": [
    {
     "data": {
      "text/plain": [
       "<Figure size 720x720 with 0 Axes>"
      ]
     },
     "metadata": {},
     "output_type": "display_data"
    },
    {
     "data": {
      "image/png": "[encoded data removed]",
      "text/plain": [
       "<Figure size 432x288 with 2 Axes>"
      ]
     },
     "metadata": {
      "needs_background": "light"
     },
     "output_type": "display_data"
    },
    {
     "data": {
      "image/png": "[encoded data removed]",
      "text/plain": [
       "<Figure size 432x288 with 2 Axes>"
      ]
     },
     "metadata": {
      "needs_background": "light"
     },
     "output_type": "display_data"
    },
    {
     "data": {
      "image/png": "[encoded data removed]",
      "text/plain": [
       "<Figure size 432x288 with 2 Axes>"
      ]
     },
     "metadata": {
      "needs_background": "light"
     },
     "output_type": "display_data"
    },
    {
     "data": {
      "image/png": "[encoded data removed]",
      "text/plain": [
       "<Figure size 432x288 with 2 Axes>"
      ]
     },
     "metadata": {
      "needs_background": "light"
     },
     "output_type": "display_data"
    },
    {
     "data": {
      "text/plain": [
       "(621, 74, 59, 3)"
      ]
     },
     "execution_count": 103,
     "metadata": {},
     "output_type": "execute_result"
    }
   ],
   "source": [
    "plt.figure(figsize=(10, 10))\n",
    "for i in X_train[202:206,::10,::10,:]:\n",
    "    plt.figure()\n",
    "    plt.imshow(i)\n",
    "    plt.colorbar()\n",
    "    plt.grid(False)\n",
    "    plt.show()\n",
    "    \n",
    "X_train[:,::10,::10,:].shape"
   ]
  },
  {
   "cell_type": "code",
   "execution_count": 42,
   "id": "1b8136fd",
   "metadata": {},
   "outputs": [
    {
     "data": {
      "text/plain": [
       "(70, 128, 64, 3)"
      ]
     },
     "execution_count": 42,
     "metadata": {},
     "output_type": "execute_result"
    }
   ],
   "source": [
    "#y_train[:7]\n",
    "X_train[:,::5,::10,:].shape"
   ]
  },
  {
   "cell_type": "code",
   "execution_count": 23,
   "id": "8344a95b",
   "metadata": {},
   "outputs": [
    {
     "data": {
      "text/plain": [
       "array([8], dtype=int64)"
      ]
     },
     "execution_count": 23,
     "metadata": {},
     "output_type": "execute_result"
    }
   ],
   "source": [
    "y_test[25]"
   ]
  },
  {
   "cell_type": "code",
   "execution_count": 610,
   "id": "cc6bf33c",
   "metadata": {},
   "outputs": [],
   "source": [
    "X_test = X_test[:,::5,::5]"
   ]
  },
  {
   "cell_type": "markdown",
   "id": "7ec78918",
   "metadata": {},
   "source": [
    "#  STREAMLIT"
   ]
  },
  {
   "cell_type": "markdown",
   "id": "0fc2b4df",
   "metadata": {},
   "source": [
    "## CODE TO USE STREAMLIT"
   ]
  },
  {
   "cell_type": "code",
   "execution_count": 84,
   "id": "9694d308",
   "metadata": {},
   "outputs": [
    {
     "name": "stdout",
     "output_type": "stream",
     "text": [
      "Collecting streamlitNote: you may need to restart the kernel to use updated packages.\n"
     ]
    },
    {
     "name": "stderr",
     "output_type": "stream",
     "text": [
      "ERROR: pip's dependency resolver does not currently take into account all the packages that are installed. This behaviour is the source of the following dependency conflicts.\n",
      "spyder 5.1.5 requires pyqt5<5.13, which is not installed.\n",
      "spyder 5.1.5 requires pyqtwebengine<5.13, which is not installed.\n"
     ]
    },
    {
     "name": "stdout",
     "output_type": "stream",
     "text": [
      "\n",
      "  Downloading streamlit-1.18.1-py2.py3-none-any.whl (9.6 MB)\n",
      "Requirement already satisfied: protobuf<4,>=3.12 in c:\\users\\otiji lotanna brian\\anaconda3new\\lib\\site-packages (from streamlit) (3.19.3)\n",
      "Requirement already satisfied: cachetools>=4.0 in c:\\users\\otiji lotanna brian\\anaconda3new\\lib\\site-packages (from streamlit) (4.2.4)\n",
      "Requirement already satisfied: watchdog in c:\\users\\otiji lotanna brian\\anaconda3new\\lib\\site-packages (from streamlit) (2.1.6)\n",
      "Collecting altair>=3.2.0\n",
      "  Downloading altair-4.2.2-py3-none-any.whl (813 kB)\n",
      "Requirement already satisfied: numpy in c:\\users\\otiji lotanna brian\\anaconda3new\\lib\\site-packages (from streamlit) (1.20.3)\n",
      "Collecting gitpython!=3.1.19\n",
      "  Downloading GitPython-3.1.31-py3-none-any.whl (184 kB)\n",
      "Collecting pympler>=0.9\n",
      "  Downloading Pympler-1.0.1-py3-none-any.whl (164 kB)\n",
      "Requirement already satisfied: requests>=2.4 in c:\\users\\otiji lotanna brian\\anaconda3new\\lib\\site-packages (from streamlit) (2.26.0)\n",
      "Requirement already satisfied: click>=7.0 in c:\\users\\otiji lotanna brian\\anaconda3new\\lib\\site-packages (from streamlit) (8.0.3)\n",
      "Collecting blinker>=1.0.0\n",
      "  Downloading blinker-1.5-py2.py3-none-any.whl (12 kB)\n",
      "Collecting validators>=0.2\n",
      "  Downloading validators-0.20.0.tar.gz (30 kB)\n",
      "Requirement already satisfied: toml in c:\\users\\otiji lotanna brian\\anaconda3new\\lib\\site-packages (from streamlit) (0.10.2)\n",
      "Requirement already satisfied: pillow>=6.2.0 in c:\\users\\otiji lotanna brian\\anaconda3new\\lib\\site-packages (from streamlit) (8.4.0)\n",
      "Collecting rich>=10.11.0\n",
      "  Downloading rich-13.3.1-py3-none-any.whl (239 kB)\n",
      "Requirement already satisfied: packaging>=14.1 in c:\\users\\otiji lotanna brian\\anaconda3new\\lib\\site-packages (from streamlit) (21.3)\n",
      "Requirement already satisfied: python-dateutil in c:\\users\\otiji lotanna brian\\anaconda3new\\lib\\site-packages (from streamlit) (2.8.2)\n",
      "Requirement already satisfied: tornado>=6.0.3 in c:\\users\\otiji lotanna brian\\anaconda3new\\lib\\site-packages (from streamlit) (6.1)\n",
      "Requirement already satisfied: importlib-metadata>=1.4 in c:\\users\\otiji lotanna brian\\anaconda3new\\lib\\site-packages (from streamlit) (4.8.2)\n",
      "Requirement already satisfied: typing-extensions>=3.10.0.0 in c:\\users\\otiji lotanna brian\\anaconda3new\\lib\\site-packages (from streamlit) (3.10.0.2)\n",
      "Collecting tzlocal>=1.1\n",
      "  Downloading tzlocal-4.2-py3-none-any.whl (19 kB)\n",
      "Collecting pydeck>=0.1.dev5\n",
      "  Downloading pydeck-0.8.0-py2.py3-none-any.whl (4.7 MB)\n",
      "Collecting pyarrow>=4.0\n",
      "  Downloading pyarrow-11.0.0-cp38-cp38-win_amd64.whl (20.6 MB)\n",
      "Requirement already satisfied: pandas>=0.25 in c:\\users\\otiji lotanna brian\\anaconda3new\\lib\\site-packages (from streamlit) (1.3.4)\n",
      "Collecting semver\n",
      "  Downloading semver-2.13.0-py2.py3-none-any.whl (12 kB)\n",
      "Requirement already satisfied: toolz in c:\\users\\otiji lotanna brian\\anaconda3new\\lib\\site-packages (from altair>=3.2.0->streamlit) (0.11.2)\n",
      "Requirement already satisfied: jinja2 in c:\\users\\otiji lotanna brian\\anaconda3new\\lib\\site-packages (from altair>=3.2.0->streamlit) (2.11.3)\n",
      "Requirement already satisfied: entrypoints in c:\\users\\otiji lotanna brian\\anaconda3new\\lib\\site-packages (from altair>=3.2.0->streamlit) (0.3)\n",
      "Requirement already satisfied: jsonschema>=3.0 in c:\\users\\otiji lotanna brian\\anaconda3new\\lib\\site-packages (from altair>=3.2.0->streamlit) (3.2.0)\n",
      "Requirement already satisfied: colorama in c:\\users\\otiji lotanna brian\\anaconda3new\\lib\\site-packages (from click>=7.0->streamlit) (0.4.4)\n",
      "Collecting gitdb<5,>=4.0.1\n",
      "  Downloading gitdb-4.0.10-py3-none-any.whl (62 kB)\n",
      "Collecting smmap<6,>=3.0.1\n",
      "  Downloading smmap-5.0.0-py3-none-any.whl (24 kB)\n",
      "Requirement already satisfied: zipp>=0.5 in c:\\users\\otiji lotanna brian\\anaconda3new\\lib\\site-packages (from importlib-metadata>=1.4->streamlit) (3.6.0)\n",
      "Requirement already satisfied: six>=1.11.0 in c:\\users\\otiji lotanna brian\\anaconda3new\\lib\\site-packages (from jsonschema>=3.0->altair>=3.2.0->streamlit) (1.16.0)\n",
      "Requirement already satisfied: attrs>=17.4.0 in c:\\users\\otiji lotanna brian\\anaconda3new\\lib\\site-packages (from jsonschema>=3.0->altair>=3.2.0->streamlit) (21.2.0)\n",
      "Requirement already satisfied: setuptools in c:\\users\\otiji lotanna brian\\anaconda3new\\lib\\site-packages (from jsonschema>=3.0->altair>=3.2.0->streamlit) (58.0.4)\n",
      "Requirement already satisfied: pyrsistent>=0.14.0 in c:\\users\\otiji lotanna brian\\anaconda3new\\lib\\site-packages (from jsonschema>=3.0->altair>=3.2.0->streamlit) (0.18.0)\n",
      "Requirement already satisfied: pyparsing!=3.0.5,>=2.0.2 in c:\\users\\otiji lotanna brian\\anaconda3new\\lib\\site-packages (from packaging>=14.1->streamlit) (3.0.4)\n",
      "Requirement already satisfied: pytz>=2017.3 in c:\\users\\otiji lotanna brian\\anaconda3new\\lib\\site-packages (from pandas>=0.25->streamlit) (2021.3)\n",
      "Requirement already satisfied: MarkupSafe>=0.23 in c:\\users\\otiji lotanna brian\\anaconda3new\\lib\\site-packages (from jinja2->altair>=3.2.0->streamlit) (1.1.1)\n",
      "Requirement already satisfied: charset-normalizer~=2.0.0 in c:\\users\\otiji lotanna brian\\anaconda3new\\lib\\site-packages (from requests>=2.4->streamlit) (2.0.4)\n",
      "Requirement already satisfied: idna<4,>=2.5 in c:\\users\\otiji lotanna brian\\anaconda3new\\lib\\site-packages (from requests>=2.4->streamlit) (3.3)\n",
      "Requirement already satisfied: urllib3<1.27,>=1.21.1 in c:\\users\\otiji lotanna brian\\anaconda3new\\lib\\site-packages (from requests>=2.4->streamlit) (1.26.7)\n",
      "Requirement already satisfied: certifi>=2017.4.17 in c:\\users\\otiji lotanna brian\\anaconda3new\\lib\\site-packages (from requests>=2.4->streamlit) (2021.10.8)\n",
      "Collecting typing-extensions>=3.10.0.0\n",
      "  Downloading typing_extensions-4.5.0-py3-none-any.whl (27 kB)\n",
      "Collecting pygments<3.0.0,>=2.14.0\n",
      "  Downloading Pygments-2.14.0-py3-none-any.whl (1.1 MB)\n",
      "Collecting markdown-it-py<3.0.0,>=2.1.0\n",
      "  Downloading markdown_it_py-2.1.0-py3-none-any.whl (84 kB)\n",
      "Collecting mdurl~=0.1\n",
      "  Downloading mdurl-0.1.2-py3-none-any.whl (10.0 kB)\n",
      "Collecting pytz-deprecation-shim\n",
      "  Downloading pytz_deprecation_shim-0.1.0.post0-py2.py3-none-any.whl (15 kB)\n",
      "Collecting backports.zoneinfo\n",
      "  Downloading backports.zoneinfo-0.2.1-cp38-cp38-win_amd64.whl (38 kB)\n",
      "Collecting tzdata\n",
      "  Downloading tzdata-2022.7-py2.py3-none-any.whl (340 kB)\n",
      "Requirement already satisfied: decorator>=3.4.0 in c:\\users\\otiji lotanna brian\\anaconda3new\\lib\\site-packages (from validators>=0.2->streamlit) (5.1.0)\n",
      "Building wheels for collected packages: validators\n",
      "  Building wheel for validators (setup.py): started\n",
      "  Building wheel for validators (setup.py): finished with status 'done'\n",
      "  Created wheel for validators: filename=validators-0.20.0-py3-none-any.whl size=19583 sha256=12e9a57cf5aae060a26ea50b20c1bc7bbfdcdcdde8179c2ca4bb8eddf54a88b7\n",
      "  Stored in directory: c:\\users\\otiji lotanna brian\\appdata\\local\\pip\\cache\\wheels\\19\\09\\72\\3eb74d236bb48bd0f3c6c3c83e4e0c5bbfcbcad7c6c3539db8\n",
      "Successfully built validators\n",
      "Installing collected packages: tzdata, smmap, mdurl, backports.zoneinfo, typing-extensions, pytz-deprecation-shim, pygments, markdown-it-py, gitdb, validators, tzlocal, semver, rich, pympler, pydeck, pyarrow, gitpython, blinker, altair, streamlit\n",
      "  Attempting uninstall: typing-extensions\n",
      "    Found existing installation: typing-extensions 3.10.0.2\n",
      "    Uninstalling typing-extensions-3.10.0.2:\n",
      "      Successfully uninstalled typing-extensions-3.10.0.2\n",
      "  Attempting uninstall: pygments\n",
      "    Found existing installation: Pygments 2.10.0\n",
      "    Uninstalling Pygments-2.10.0:\n",
      "      Successfully uninstalled Pygments-2.10.0\n",
      "Successfully installed altair-4.2.2 backports.zoneinfo-0.2.1 blinker-1.5 gitdb-4.0.10 gitpython-3.1.31 markdown-it-py-2.1.0 mdurl-0.1.2 pyarrow-11.0.0 pydeck-0.8.0 pygments-2.14.0 pympler-1.0.1 pytz-deprecation-shim-0.1.0.post0 rich-13.3.1 semver-2.13.0 smmap-5.0.0 streamlit-1.18.1 typing-extensions-4.5.0 tzdata-2022.7 tzlocal-4.2 validators-0.20.0\n"
     ]
    }
   ],
   "source": [
    "pip install streamlit"
   ]
  },
  {
   "cell_type": "code",
   "execution_count": 101,
   "id": "08ecd056",
   "metadata": {},
   "outputs": [],
   "source": [
    "import streamlit as st"
   ]
  },
  {
   "cell_type": "code",
   "execution_count": 107,
   "id": "3459677f",
   "metadata": {},
   "outputs": [],
   "source": [
    "#TO LAUNCH MODEL ON STREAMLIT\n",
    "\n",
    "#!/usr/bin/env python\n",
    "# coding: utf-8\n",
    "\n",
    "# In[1]:\n",
    "\n",
    "\n",
    "import streamlit as st\n",
    "import os\n",
    "import numpy as np\n",
    "from tensorflow import keras\n",
    "from PIL import Image\n",
    "\n",
    "# Load the trained model\n",
    "model = keras.models.load_model('C:/Users/Otiji Lotanna Brian/Desktop/2nd_experiment.h5')\n",
    "\n",
    "# Define the input image size\n",
    "#input_size = (64, 64)\n",
    "\n",
    "# Define a function to preprocess the image\n",
    "def preprocess_image(image):\n",
    "    test_images_list = []\n",
    "    \n",
    "    # Resize the image\n",
    "    #image = image.resize((69, 52), Image.ANTIALIAS)\n",
    "    \n",
    "    # Adjust the contrast of the image\n",
    "    #enhancer = ImageEnhance.Contrast(image)\n",
    "    #image = enhancer.enhance(1)\n",
    "    \n",
    "    #Grayscale\n",
    "    #image = image.convert(\"L\")\n",
    "    \n",
    "    # Convert the image to a numpy array\n",
    "   \n",
    "    image_array = np.array(image)\n",
    "\t\n",
    "    test_images_list.append(image_array)\n",
    "\t\n",
    "    X_test = np.stack(test_images_list)\n",
    "    \n",
    "    # Normalize and center the image\n",
    "    #image_array = image_array / 255.0\n",
    "    #image_array = image_array - np.mean(image_array)\n",
    "\n",
    "    return X_test\n",
    "\n",
    "\n",
    "# Define a function to make a prediction on a single image\n",
    "def predict_image(image):\n",
    "    # Preprocess the image\n",
    "    X_test = preprocess_image(image)\n",
    "\t\n",
    "    # Make a prediction on the preprocessed image\n",
    "    prediction = model.predict(X_test[:,::8,::8,:])\n",
    "\n",
    "    return np.round(prediction[0][0])\n",
    "\n",
    "# Define a function to display the prediction result\n",
    "def display_result(image, prediction):\n",
    "    # Display the input image\n",
    "    st.image(image, caption='Input Image', use_column_width=True)\n",
    "\n",
    "    # Display the prediction result\n",
    "    st.write(f'Predicted value: {prediction:.2f}')\n",
    "\n",
    "# Define a function to run the app\n",
    "def run_app():\n",
    "    # Create a file uploader\n",
    "    uploaded_file = st.file_uploader('Choose an image', type=['jpg', 'jpeg', 'png'])\n",
    "\n",
    "    # If an image is uploaded\n",
    "    if uploaded_file is not None:\n",
    "        # Read the image from the file\n",
    "        image = Image.open(uploaded_file)\n",
    "\n",
    "        # Make a prediction on the image\n",
    "        prediction = predict_image(image)\n",
    "\n",
    "        # Display the result\n",
    "        display_result(image, prediction)\n",
    "\n",
    "        \n",
    "# Run the app\n",
    "run_app()        \n",
    "        \n"
   ]
  },
  {
   "cell_type": "code",
   "execution_count": 122,
   "id": "db87653e",
   "metadata": {},
   "outputs": [],
   "source": [
    "def preprocess_image(image):\n",
    "    # Resize the image\n",
    "    for filename in os.listdir(\"C:/Users/Otiji Lotanna Brian/Desktop/test\"):\n",
    "        image = Image.open(\"C:/Users/Otiji Lotanna Brian/Desktop/test/\" + filename)\n",
    "    \n",
    "    # Resize the image\n",
    "        #image = image.resize((69, 52), Image.ANTIALIAS)\n",
    "    \n",
    "    # Adjust the contrast of the image\n",
    "    #enhancer = ImageEnhance.Contrast(image)\n",
    "    #image = enhancer.enhance(1)\n",
    "    \n",
    "    #Grayscale\n",
    "    #image = image.convert(\"L\")\n",
    "    \n",
    "    # Convert the image to a numpy array\n",
    "        image_array = np.array(image)\n",
    "    \n",
    "    # Normalize and center the image\n",
    "    #image_array = image_array / 255.0\n",
    "    #image_array = image_array - np.mean(image_array)\n",
    "\n",
    "    return image_array[::15,::15,:]\n",
    "x = preprocess_image(image)"
   ]
  },
  {
   "cell_type": "code",
   "execution_count": 188,
   "id": "a97a9a3d",
   "metadata": {},
   "outputs": [
    {
     "data": {
      "image/png": "[encoded data removed]",
      "text/plain": [
       "<Figure size 432x288 with 1 Axes>"
      ]
     },
     "metadata": {
      "needs_background": "light"
     },
     "output_type": "display_data"
    }
   ],
   "source": [
    "import matplotlib.pyplot as plt\n",
    "\n",
    "# assuming y_pred and y_test are already defined\n",
    "\n",
    "# calculate the difference between y_pred and y_test\n",
    "diff = predict - y_test\n",
    "\n",
    "# plot the histogram\n",
    "plt.hist(diff, bins=50)\n",
    "plt.xlabel('Prediction Error')\n",
    "plt.ylabel('Frequency')\n",
    "plt.show()"
   ]
  },
  {
   "cell_type": "code",
   "execution_count": 54,
   "id": "7b6397c8",
   "metadata": {},
   "outputs": [],
   "source": [
    "human = [1, 2, 4, 3, 2, 2, 4, 3, 2, 3, 4, 0, 2, 3, 3, 1, 6, 2, 3, 1, 4, 0,\n",
    "       3, 4, 0, 2, 3, 5, 3, 1, 6, 2, 3, 1, 4, 0, 0]\n",
    "model = [ 2,  2,  3,  2,  2,  4,  4,  4,  4,  3,  4,  2,  2,  2,  3,  1,  6,\n",
    "        1,  3,  1,  3, -1,  3,  4,  2,  2,  3,  4,  3,  1,  7,  2,  3,  1,\n",
    "        4,  0,  1]"
   ]
  },
  {
   "cell_type": "code",
   "execution_count": 65,
   "id": "5e7c43fb",
   "metadata": {},
   "outputs": [],
   "source": [
    "data = ({\"human_count\":human, \"model_count\": model})\n",
    "df =pd.DataFrame(data)"
   ]
  },
  {
   "cell_type": "code",
   "execution_count": 66,
   "id": "b5eb0422",
   "metadata": {},
   "outputs": [],
   "source": [
    "df.to_excel('C:/Users/Otiji Lotanna Brian/Desktop/data.xlsx', index=False)"
   ]
  },
  {
   "cell_type": "code",
   "execution_count": 93,
   "id": "3d0deb46",
   "metadata": {},
   "outputs": [
    {
     "data": {
      "image/png": "[encoded data removed]",
      "text/plain": [
       "<Figure size 432x288 with 1 Axes>"
      ]
     },
     "metadata": {
      "needs_background": "light"
     },
     "output_type": "display_data"
    }
   ],
   "source": [
    "import matplotlib.pyplot as plt\n",
    "import numpy as np\n",
    "from scipy.stats import norm\n",
    "\n",
    "# Generate random data\n",
    "#data = np.random.normal(0, 1, 1000)\n",
    "\n",
    "# Calculate mean and standard deviation\n",
    "mu, std = norm.fit(human)\n",
    "mu1, std1 = norm.fit(model)\n",
    "\n",
    "# Create histogram\n",
    "plt.hist(human, bins=(7), density=True, alpha=0.6, color='g')\n",
    "plt.hist(model, bins=(7), density=True, alpha=0.6, color='r')\n",
    "\n",
    "# Create x-axis range for the distribution curve\n",
    "xmin, xmax = plt.xlim()\n",
    "x = np.linspace(xmin, xmax, 100)\n",
    "\n",
    "# Create the distribution curve\n",
    "p = norm.pdf(x, mu, std)\n",
    "q= norm.pdf(x,mu1, std1)\n",
    "\n",
    "plt.plot(x, p, 'k', linewidth=2)\n",
    "plt.plot(x, q, 'r', linewidth=2)\n",
    "\n",
    "# Show the plot\n",
    "plt.show()"
   ]
  },
  {
   "cell_type": "code",
   "execution_count": 100,
   "id": "20e9aba6",
   "metadata": {},
   "outputs": [
    {
     "data": {
      "image/png": "[encoded data removed]",
      "text/plain": [
       "<Figure size 432x288 with 1 Axes>"
      ]
     },
     "metadata": {
      "needs_background": "light"
     },
     "output_type": "display_data"
    }
   ],
   "source": [
    "import matplotlib.pyplot as plt\n",
    "import numpy as np\n",
    "from scipy.stats import norm,gamma\n",
    "\n",
    "\n",
    "labels = ['Human', 'Model']\n",
    "# Calculate mean and standard deviation\n",
    "mu, std = norm.fit(human)\n",
    "mu1, std1 = norm.fit(model)\n",
    "\n",
    "# Create histogram\n",
    "plt.hist([human, model], bins=(7), density=True, alpha=0.6, color=['g', 'r'], label=labels)\n",
    "\n",
    "# Create x-axis range for the distribution curve\n",
    "xmin, xmax = plt.xlim()\n",
    "x = np.linspace(xmin, xmax, 100)\n",
    "\n",
    "# Create the distribution curve\n",
    "p = norm.pdf(x, mu, std)\n",
    "q = norm.pdf(x, mu1, std1)\n",
    "\n",
    "plt.plot(x, p, 'g', linewidth=2)\n",
    "plt.plot(x, q, 'r', linewidth=2)\n",
    "\n",
    "# Add legend, mean, and std\n",
    "plt.legend()\n",
    "plt.text(0.5, 0.3, 'Human\\nmean={:.2f}\\nstd={:.2f}'.format(mu, std), fontsize=12)\n",
    "plt.text(3.5, 0.3, 'Model\\nmean={:.2f}\\nstd={:.2f}'.format(mu1, std1), fontsize=12)\n",
    "\n",
    "# Show the plot\n",
    "plt.show()"
   ]
  },
  {
   "cell_type": "code",
   "execution_count": 101,
   "id": "efcb97be",
   "metadata": {},
   "outputs": [
    {
     "name": "stdout",
     "output_type": "stream",
     "text": [
      "Accuracy: 59.46%\n"
     ]
    }
   ],
   "source": [
    "from sklearn.metrics import accuracy_score\n",
    "\n",
    "accuracy = accuracy_score(human, model) * 100\n",
    "\n",
    "print(\"Accuracy: {:.2f}%\".format(accuracy))"
   ]
  },
  {
   "cell_type": "code",
   "execution_count": null,
   "id": "dec0fcf4",
   "metadata": {},
   "outputs": [],
   "source": []
  }
 ],
 "metadata": {
  "kernelspec": {
   "display_name": "Python 3 (ipykernel)",
   "language": "python",
   "name": "python3"
  },
  "language_info": {
   "codemirror_mode": {
    "name": "ipython",
    "version": 3
   },
   "file_extension": ".py",
   "mimetype": "text/x-python",
   "name": "python",
   "nbconvert_exporter": "python",
   "pygments_lexer": "ipython3",
   "version": "3.8.12"
  }
 },
 "nbformat": 4,
 "nbformat_minor": 5
}
